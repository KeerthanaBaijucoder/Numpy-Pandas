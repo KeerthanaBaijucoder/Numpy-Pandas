{
 "cells": [
  {
   "cell_type": "code",
   "execution_count": null,
   "id": "24f26215-58e5-469c-acd7-86b5bf65e136",
   "metadata": {},
   "outputs": [],
   "source": [
    "Exercise 1"
   ]
  },
  {
   "cell_type": "code",
   "execution_count": 1,
   "id": "7879464c-3cd8-4a9c-84ce-f2328f9f656f",
   "metadata": {},
   "outputs": [
    {
     "name": "stdout",
     "output_type": "stream",
     "text": [
      "Original Array: [ 1  2  3  4  5  6  7  8  9 10]\n",
      "Reshaped Array (2x5):\n",
      "[[ 1  2  3  4  5]\n",
      " [ 6  7  8  9 10]]\n"
     ]
    }
   ],
   "source": [
    "import numpy as np\n",
    "arr = np.arange(1, 11)\n",
    "reshaped_arr = arr.reshape(2, 5)\n",
    "print(\"Original Array:\", arr)\n",
    "print(\"Reshaped Array (2x5):\")\n",
    "print(reshaped_arr)"
   ]
  },
  {
   "cell_type": "code",
   "execution_count": null,
   "id": "873ab1e9-888c-4e25-9861-b03bd1069e47",
   "metadata": {},
   "outputs": [],
   "source": [
    "Exercise 2"
   ]
  },
  {
   "cell_type": "code",
   "execution_count": 3,
   "id": "d7cd1254-9a1a-4ab0-91cb-5de9abca73b6",
   "metadata": {},
   "outputs": [
    {
     "name": "stdout",
     "output_type": "stream",
     "text": [
      "Original Array: [ 1  2  3  4  5  6  7  8  9 10 11 12 13 14 15 16 17 18 19 20]\n",
      "Extracted Elements (index 5 to 15): [ 6  7  8  9 10 11 12 13 14 15 16]\n"
     ]
    }
   ],
   "source": [
    "import numpy as np\n",
    "arr = np.arange(1, 21)\n",
    "extracted = arr[5:16]\n",
    "print(\"Original Array:\", arr)\n",
    "print(\"Extracted Elements (index 5 to 15):\", extracted)"
   ]
  },
  {
   "cell_type": "code",
   "execution_count": null,
   "id": "2eccb828-711d-4e47-b94b-fec69369d14b",
   "metadata": {},
   "outputs": [],
   "source": [
    "Exercise 3"
   ]
  },
  {
   "cell_type": "code",
   "execution_count": 5,
   "id": "392009a6-a893-4b43-87e2-45b380cd4570",
   "metadata": {},
   "outputs": [
    {
     "name": "stdout",
     "output_type": "stream",
     "text": [
      "apples     3\n",
      "bananas    2\n",
      "oranges    1\n",
      "pears      4\n",
      "dtype: int64\n"
     ]
    }
   ],
   "source": [
    "import pandas as pd\n",
    "fruit_series = pd.Series({'apples': 3, 'bananas': 2, 'oranges': 1})\n",
    "fruit_series['pears'] = 4\n",
    "print(fruit_series)"
   ]
  },
  {
   "cell_type": "code",
   "execution_count": null,
   "id": "f93709a0-6250-4187-929e-d3e6c583234e",
   "metadata": {},
   "outputs": [],
   "source": [
    "Exercise 4"
   ]
  },
  {
   "cell_type": "code",
   "execution_count": 7,
   "id": "ccf5e528-3631-4f39-9906-e7bbde228c5c",
   "metadata": {},
   "outputs": [
    {
     "name": "stdout",
     "output_type": "stream",
     "text": [
      "      name  age  gender\n",
      "0    Alice   25  Female\n",
      "1      Bob   30    Male\n",
      "2  Charlie   22    Male\n",
      "3    David   28    Male\n",
      "4      Eva   35  Female\n",
      "5    Frank   27    Male\n",
      "6    Grace   24  Female\n",
      "7   Hannah   29  Female\n",
      "8      Ian   31    Male\n",
      "9    Julia   26  Female\n"
     ]
    }
   ],
   "source": [
    "import pandas as pd\n",
    "data = {\n",
    "    'name': ['Alice', 'Bob', 'Charlie', 'David', 'Eva', 'Frank', 'Grace', 'Hannah', 'Ian', 'Julia'],\n",
    "    'age': [25, 30, 22, 28, 35, 27, 24, 29, 31, 26],\n",
    "    'gender': ['Female', 'Male', 'Male', 'Male', 'Female', 'Male', 'Female', 'Female', 'Male', 'Female']\n",
    "}\n",
    "df = pd.DataFrame(data)\n",
    "print(df)"
   ]
  },
  {
   "cell_type": "code",
   "execution_count": null,
   "id": "64ff80bc-2525-402a-a228-907ec80a23e4",
   "metadata": {},
   "outputs": [],
   "source": [
    "Exercise 5"
   ]
  },
  {
   "cell_type": "code",
   "execution_count": 15,
   "id": "4cc1ee7d-bc90-4281-9a56-28659d7cc372",
   "metadata": {},
   "outputs": [
    {
     "name": "stdout",
     "output_type": "stream",
     "text": [
      "      name  age  gender  occupation\n",
      "0   Aleena   25  Female  Programmer\n",
      "1     Boby   30    Male     Manager\n",
      "2   xavier   22    Male     Analyst\n",
      "3      Den   28    Male  Programmer\n",
      "4  EvaMwol   35  Female     Manager\n",
      "5   Kannan   27    Male     Analyst\n",
      "6   Chinnu   24  Female  Programmer\n",
      "7    Aysha   29  Female     Manager\n",
      "8    Aswin   31    Male     Analyst\n",
      "9  Jerreta   26  Female  Programmer\n"
     ]
    }
   ],
   "source": [
    "import pandas as pd\n",
    "data = {\n",
    "    'name': ['Aleena', 'Boby', 'xavier', 'Den', 'EvaMwol', 'Kannan', 'Chinnu', 'Aysha', 'Aswin', 'Jerreta'],\n",
    "    'age': [25, 30, 22, 28, 35, 27, 24, 29, 31, 26],\n",
    "    'gender': ['Female', 'Male', 'Male', 'Male', 'Female', 'Male', 'Female', 'Female', 'Male', 'Female']\n",
    "}\n",
    "df = pd.DataFrame(data)\n",
    "occupations = ['Programmer', 'Manager', 'Analyst', 'Programmer', 'Manager', \n",
    "               'Analyst', 'Programmer', 'Manager', 'Analyst', 'Programmer']\n",
    "df['occupation'] = occupations\n",
    "print(df)"
   ]
  },
  {
   "cell_type": "code",
   "execution_count": null,
   "id": "b625c77a-fcae-4f03-823f-353e7cdfef33",
   "metadata": {},
   "outputs": [],
   "source": [
    "Exercise 6"
   ]
  },
  {
   "cell_type": "code",
   "execution_count": 17,
   "id": "ed774e9c-fea2-44b8-aa04-7c69eab73336",
   "metadata": {},
   "outputs": [
    {
     "name": "stdout",
     "output_type": "stream",
     "text": [
      "      name  age  gender occupation\n",
      "1     Boby   30    Male    Manager\n",
      "4  EvaMwol   35  Female    Manager\n",
      "8    Aswin   31    Male    Analyst\n"
     ]
    }
   ],
   "source": [
    "age_filtered_df = df[df['age'] >= 30]\n",
    "print(age_filtered_df)"
   ]
  },
  {
   "cell_type": "code",
   "execution_count": null,
   "id": "559da585-d4c3-476d-a038-e6288a9b8264",
   "metadata": {},
   "outputs": [],
   "source": [
    "Exercise 7"
   ]
  },
  {
   "cell_type": "code",
   "execution_count": 19,
   "id": "f0821299-6469-4f3b-91e5-19fe043b6a32",
   "metadata": {},
   "outputs": [
    {
     "name": "stdout",
     "output_type": "stream",
     "text": [
      "      name  age  gender  occupation\n",
      "0   Aleena   25  Female  Programmer\n",
      "1     Boby   30    Male     Manager\n",
      "2   xavier   22    Male     Analyst\n",
      "3      Den   28    Male  Programmer\n",
      "4  EvaMwol   35  Female     Manager\n",
      "5   Kannan   27    Male     Analyst\n",
      "6   Chinnu   24  Female  Programmer\n",
      "7    Aysha   29  Female     Manager\n",
      "8    Aswin   31    Male     Analyst\n",
      "9  Jerreta   26  Female  Programmer\n"
     ]
    }
   ],
   "source": [
    "import pandas as pd\n",
    "data = {\n",
    "    'name':  ['Aleena', 'Boby', 'xavier', 'Den', 'EvaMwol', 'Kannan', 'Chinnu', 'Aysha', 'Aswin', 'Jerreta'],\n",
    "    'age': [25, 30, 22, 28, 35, 27, 24, 29, 31, 26],\n",
    "    'gender': ['Female', 'Male', 'Male', 'Male', 'Female', 'Male', 'Female', 'Female', 'Male', 'Female'],\n",
    "    'occupation': ['Programmer', 'Manager', 'Analyst', 'Programmer', 'Manager', \n",
    "                   'Analyst', 'Programmer', 'Manager', 'Analyst', 'Programmer']\n",
    "}\n",
    "df = pd.DataFrame(data)\n",
    "df.to_csv(\"people.csv\", index=False)\n",
    "read_df = pd.read_csv(\"people.csv\")\n",
    "print(read_df)"
   ]
  },
  {
   "cell_type": "code",
   "execution_count": null,
   "id": "501fd2f1-1b72-4912-911e-bcf051e2fb3c",
   "metadata": {},
   "outputs": [],
   "source": []
  }
 ],
 "metadata": {
  "kernelspec": {
   "display_name": "Python [conda env:base] *",
   "language": "python",
   "name": "conda-base-py"
  },
  "language_info": {
   "codemirror_mode": {
    "name": "ipython",
    "version": 3
   },
   "file_extension": ".py",
   "mimetype": "text/x-python",
   "name": "python",
   "nbconvert_exporter": "python",
   "pygments_lexer": "ipython3",
   "version": "3.12.7"
  }
 },
 "nbformat": 4,
 "nbformat_minor": 5
}
